{
 "cells": [
  {
   "cell_type": "code",
   "execution_count": 3,
   "metadata": {},
   "outputs": [
    {
     "name": "stdout",
     "output_type": "stream",
     "text": [
      "   DayOfWeek  Sleep     Weight  WeightXSleep\n",
      "0          6    870  8155463.0  7.095253e+09\n",
      "1          7    620  1735323.0  1.075900e+09\n",
      "2          7    560  3830528.0  2.145096e+09\n",
      "3          5    720  6622023.0  4.767857e+09\n",
      "4          5    385  3068387.0  1.181329e+09\n"
     ]
    }
   ],
   "source": [
    "#import packages and data\n",
    "\n",
    "import pandas as pd\n",
    "import numpy as np\n",
    "import matplotlib.pyplot as plt\n",
    "%matplotlib inline\n",
    "Codes=pd.read_csv(\"ATUS_Survey/codes.csv\")\n",
    "Activities=pd.read_csv(\"ATUS_Survey/atusact.csv\")\n",
    "Summary=pd.read_csv(\"ATUS_Survey/atussum.csv\")\n",
    "Respondent=pd.read_csv(\"ATUS_Survey/atusresp.csv\")\n",
    "#print(SU.head(10))\n",
    "N_people=len(Summary[\"tucaseid\"])  #Initialize all dataframes and store number of people as variable\n",
    "Roster=pd.read_csv(\"ATUS_Survey/atusrost.csv\")\n",
    "\n",
    "#Tabulate how much sleep each ID got (Slow)\n",
    "\n",
    "import math\n",
    "SleepDict={} \n",
    "for ind, row in Activities.iterrows():\n",
    "    if (row[\"trcodep\"]==10101) | (row[\"trcodep\"]==10199):\n",
    "        if row[\"tucaseid\"] in SleepDict.keys():\n",
    "            SleepDict[row[\"tucaseid\"]]+=row[\"tuactdur24\"]\n",
    "        else:\n",
    "            SleepDict[row[\"tucaseid\"]]=row[\"tuactdur24\"]\n",
    "            \n",
    "#Combine day of week and stat weight from Respondent file with Sleep amount from above\n",
    "\n",
    "cols=[\"DayOfWeek\",\"Sleep\",\"Weight\"]\n",
    "\n",
    "SleepList=[]\n",
    "SleepInd=0\n",
    "#SleepData.loc[1]=[5,2]\n",
    "\n",
    "for ind, row in Respondent.iterrows():\n",
    "    if (row[\"tulineno\"]==1 and math.isnan(row[\"tudiaryday\"]) != True) and row[\"tucaseid\"] in SleepDict.keys():\n",
    "        SleepList.append([row[\"tudiaryday\"],SleepDict[row[\"tucaseid\"]],row[\"tufnwgtp\"]])\n",
    "        #SleepData.loc[SleepInd]=[row[\"teage\"],SleepDict[row[\"tucaseid\"]]]\n",
    "        #SleepInd+=1\n",
    "SleepData=pd.DataFrame(SleepList,columns=cols)\n",
    "SleepData[\"WeightXSleep\"]=SleepData[\"Weight\"]*SleepData[\"Sleep\"]\n",
    "print(SleepData.head())"
   ]
  },
  {
   "cell_type": "code",
   "execution_count": 2,
   "metadata": {},
   "outputs": [],
   "source": [
    "def Hour_Decimal(time):\n",
    "    L=time.split(\":\")\n",
    "    return int(L[0])+int(L[1])/60 +int(L[2])/3600\n"
   ]
  },
  {
   "cell_type": "code",
   "execution_count": 16,
   "metadata": {},
   "outputs": [
    {
     "data": {
      "text/plain": [
       "[<matplotlib.lines.Line2D at 0x44bcd518>]"
      ]
     },
     "execution_count": 16,
     "metadata": {},
     "output_type": "execute_result"
    },
    {
     "data": {
      "image/png": "[encoded data removed]",
      "text/plain": [
       "<matplotlib.figure.Figure at 0x44ab1390>"
      ]
     },
     "metadata": {},
     "output_type": "display_data"
    }
   ],
   "source": [
    "import numpy as np\n",
    "\n",
    "Window=.5\n",
    "Ma=16\n",
    "Mi=0\n",
    "Edges=np.arange(np.ceil(Ma/Window))*Window+Mi\n",
    "Sums=np.zeros((len(Edges)-1,1))\n",
    "for ind,i in enumerate(Edges[0:len(Edges)-1]):\n",
    "    for ind2,age in enumerate(SleepData[\"Sleep\"]/60):\n",
    "        if (age>=i) & (age<i+Window):\n",
    "            Sums[ind]+=SleepData[\"Weight\"][ind2]\n",
    "            \n",
    "Avgs=Sums  \n",
    "plt.plot(Edges[0:len(Edges)-1],Sums/np.sum(Sums))"
   ]
  },
  {
   "cell_type": "code",
   "execution_count": 80,
   "metadata": {},
   "outputs": [
    {
     "name": "stdout",
     "output_type": "stream",
     "text": [
      "8.67028274808\n",
      "2.11342017019\n"
     ]
    },
    {
     "data": {
      "image/png": "[encoded data removed]",
      "text/plain": [
       "<matplotlib.figure.Figure at 0x455226d8>"
      ]
     },
     "metadata": {},
     "output_type": "display_data"
    }
   ],
   "source": [
    "import matplotlib.lines as lt\n",
    "\n",
    "\n",
    "fig, ax = plt.subplots()\n",
    "X=Edges[0:len(Edges)]+.25\n",
    "Y=Sums/np.sum(Sums)\n",
    "Y=np.append(Y,0)\n",
    "A=ax.fill(X,Y)\n",
    "plt.xlabel('Sleep (hrs)')\n",
    "plt.ylabel('Frequency')\n",
    "\n",
    "Ea=np.transpose(np.array(Edges[0:len(Edges)-1])+.25)\n",
    "Mea=np.sum(Ea*np.transpose(Sums))/np.sum(Sums)\n",
    "SD=np.sqrt(np.sum(np.transpose(Sums)*np.square(Ea-Mea))/((len(Sums)-1)*np.sum(Sums)/len(Sums)))\n",
    "#print(Ea*np.transpose(Sums))\n",
    "print(Mea)\n",
    "print(SD)\n",
    "YL=plt.ylim()\n",
    "\n",
    "plt.plot([Mea, Mea],[-10,10],'r')\n",
    "plt.plot([Mea+SD, Mea+SD],[-10,10],'r--')\n",
    "plt.plot([Mea-SD, Mea-SD],[-10,10],'r--')\n",
    "plt.ylim([0,YL[1]])\n",
    "\n",
    "#Mean=8.67, SD=2.11\n",
    "\n",
    "plt.savefig(\"SleepHistogram.png\")"
   ]
  },
  {
   "cell_type": "code",
   "execution_count": 75,
   "metadata": {},
   "outputs": [
    {
     "ename": "IndexError",
     "evalue": "index 31 is out of bounds for axis 0 with size 31",
     "output_type": "error",
     "traceback": [
      "\u001b[1;31m---------------------------------------------------------------------------\u001b[0m",
      "\u001b[1;31mIndexError\u001b[0m                                Traceback (most recent call last)",
      "\u001b[1;32m<ipython-input-75-b8cc370f3414>\u001b[0m in \u001b[0;36m<module>\u001b[1;34m()\u001b[0m\n\u001b[1;32m----> 1\u001b[1;33m \u001b[0mSums\u001b[0m\u001b[1;33m[\u001b[0m\u001b[1;36m31\u001b[0m\u001b[1;33m]\u001b[0m\u001b[1;33m=\u001b[0m\u001b[1;36m0\u001b[0m\u001b[1;33m\u001b[0m\u001b[0m\n\u001b[0m",
      "\u001b[1;31mIndexError\u001b[0m: index 31 is out of bounds for axis 0 with size 31"
     ]
    }
   ],
   "source": []
  },
  {
   "cell_type": "code",
   "execution_count": 45,
   "metadata": {},
   "outputs": [
    {
     "data": {
      "text/plain": [
       "array([  6.25000000e-02,   5.62500000e-01,   1.56250000e+00,\n",
       "         3.06250000e+00,   5.06250000e+00,   7.56250000e+00,\n",
       "         1.05625000e+01,   1.40625000e+01,   1.80625000e+01,\n",
       "         2.25625000e+01,   2.75625000e+01,   3.30625000e+01,\n",
       "         3.90625000e+01,   4.55625000e+01,   5.25625000e+01,\n",
       "         6.00625000e+01,   6.80625000e+01,   7.65625000e+01,\n",
       "         8.55625000e+01,   9.50625000e+01,   1.05062500e+02,\n",
       "         1.15562500e+02,   1.26562500e+02,   1.38062500e+02,\n",
       "         1.50062500e+02,   1.62562500e+02,   1.75562500e+02,\n",
       "         1.89062500e+02,   2.03062500e+02,   2.17562500e+02,\n",
       "         2.32562500e+02])"
      ]
     },
     "execution_count": 45,
     "metadata": {},
     "output_type": "execute_result"
    }
   ],
   "source": [
    "\n"
   ]
  },
  {
   "cell_type": "code",
   "execution_count": 11,
   "metadata": {},
   "outputs": [
    {
     "data": {
      "text/plain": [
       "0    870\n",
       "1    620\n",
       "2    560\n",
       "3    720\n",
       "4    385\n",
       "Name: Sleep, dtype: int64"
      ]
     },
     "execution_count": 11,
     "metadata": {},
     "output_type": "execute_result"
    }
   ],
   "source": [
    "SleepData[\"Sleep\"].head()"
   ]
  },
  {
   "cell_type": "code",
   "execution_count": 7,
   "metadata": {},
   "outputs": [
    {
     "data": {
      "text/plain": [
       "0          870\n",
       "1          620\n",
       "2          560\n",
       "3          720\n",
       "4          385\n",
       "5          675\n",
       "6          531\n",
       "7          445\n",
       "8          645\n",
       "9          180\n",
       "10         515\n",
       "11         575\n",
       "12         576\n",
       "13         840\n",
       "14         570\n",
       "15         630\n",
       "16         570\n",
       "17         530\n",
       "18         570\n",
       "19         575\n",
       "20         580\n",
       "21         480\n",
       "22         512\n",
       "23         505\n",
       "24         495\n",
       "25         803\n",
       "26         510\n",
       "27         705\n",
       "28         560\n",
       "29         545\n",
       "          ... \n",
       "170587     479\n",
       "170588     245\n",
       "170589     517\n",
       "170590     450\n",
       "170591     560\n",
       "170592     550\n",
       "170593     489\n",
       "170594     240\n",
       "170595     250\n",
       "170596     740\n",
       "170597     615\n",
       "170598     410\n",
       "170599     690\n",
       "170600    1088\n",
       "170601     565\n",
       "170602     600\n",
       "170603     450\n",
       "170604     540\n",
       "170605     450\n",
       "170606     540\n",
       "170607     525\n",
       "170608     620\n",
       "170609     570\n",
       "170610     230\n",
       "170611     435\n",
       "170612     570\n",
       "170613     595\n",
       "170614     535\n",
       "170615     450\n",
       "170616     360\n",
       "Name: Sleep, Length: 170617, dtype: int64"
      ]
     },
     "execution_count": 7,
     "metadata": {},
     "output_type": "execute_result"
    }
   ],
   "source": [
    "SleepData[\"Sleep\"]"
   ]
  },
  {
   "cell_type": "code",
   "execution_count": null,
   "metadata": {},
   "outputs": [],
   "source": []
  }
 ],
 "metadata": {
  "kernelspec": {
   "display_name": "Python 3",
   "language": "python",
   "name": "python3"
  },
  "language_info": {
   "codemirror_mode": {
    "name": "ipython",
    "version": 3
   },
   "file_extension": ".py",
   "mimetype": "text/x-python",
   "name": "python",
   "nbconvert_exporter": "python",
   "pygments_lexer": "ipython3",
   "version": "3.6.3"
  }
 },
 "nbformat": 4,
 "nbformat_minor": 2
}

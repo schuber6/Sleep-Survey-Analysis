{
 "cells": [
  {
   "cell_type": "code",
   "execution_count": 2,
   "metadata": {},
   "outputs": [],
   "source": [
    "#import packages and data\n",
    "\n",
    "import pandas as pd\n",
    "import numpy as np\n",
    "import matplotlib.pyplot as plt\n",
    "%matplotlib inline\n",
    "Codes=pd.read_csv(\"ATUS_Survey/codes.csv\")\n",
    "Activities=pd.read_csv(\"ATUS_Survey/atusact.csv\")\n",
    "Summary=pd.read_csv(\"ATUS_Survey/atussum.csv\")\n",
    "Respondent=pd.read_csv(\"ATUS_Survey/atusresp.csv\")\n",
    "#print(SU.head(10))\n",
    "N_people=len(Summary[\"tucaseid\"])  #Initialize all dataframes and store number of people as variable\n",
    "Roster=pd.read_csv(\"ATUS_Survey/atusrost.csv\")"
   ]
  },
  {
   "cell_type": "code",
   "execution_count": 2,
   "metadata": {},
   "outputs": [],
   "source": [
    "#Tabulate how much sleep each ID got (Slow)\n",
    "\n",
    "import math\n",
    "SleepDict={} \n",
    "for ind, row in Activities.iterrows():\n",
    "    if (row[\"trcodep\"]==10101) | (row[\"trcodep\"]==10199):\n",
    "        if row[\"tucaseid\"] in SleepDict.keys():\n",
    "            SleepDict[row[\"tucaseid\"]]+=row[\"tuactdur24\"]\n",
    "        else:\n",
    "            SleepDict[row[\"tucaseid\"]]=row[\"tuactdur24\"]"
   ]
  },
  {
   "cell_type": "code",
   "execution_count": 3,
   "metadata": {},
   "outputs": [
    {
     "data": {
      "text/plain": [
       "True"
      ]
     },
     "execution_count": 3,
     "metadata": {},
     "output_type": "execute_result"
    }
   ],
   "source": [
    "def Hour_Decimal(time):\n",
    "    L=time.split(\":\")\n",
    "    return int(L[0])+int(L[1])/60 +int(L[2])/3600\n",
    "Hour_Decimal(Activities[\"tustarttim\"][1])>=4"
   ]
  },
  {
   "cell_type": "code",
   "execution_count": 4,
   "metadata": {},
   "outputs": [],
   "source": [
    "#Split Times by morning sleep (from the previous night), and night sleep\n",
    "\n",
    "SleepDict1={} \n",
    "SleepDict2={} \n",
    "for ind, row in Activities.iterrows():\n",
    "    if (row[\"trcodep\"]==10101) | (row[\"trcodep\"]==10199):\n",
    "        if (Hour_Decimal(row[\"tustarttim\"])>=4) & (Hour_Decimal(row[\"tustarttim\"])<=8):\n",
    "            if row[\"tucaseid\"] in SleepDict1.keys():\n",
    "                SleepDict1[row[\"tucaseid\"]]+=row[\"tuactdur24\"]\n",
    "            else:\n",
    "                SleepDict1[row[\"tucaseid\"]]=row[\"tuactdur24\"]\n",
    "        else:\n",
    "            if row[\"tucaseid\"] in SleepDict2.keys():\n",
    "                SleepDict2[row[\"tucaseid\"]]+=row[\"tuactdur24\"]\n",
    "            else:\n",
    "                SleepDict2[row[\"tucaseid\"]]=row[\"tuactdur24\"]"
   ]
  },
  {
   "cell_type": "code",
   "execution_count": 25,
   "metadata": {},
   "outputs": [],
   "source": [
    "AgeDict={}\n",
    "for ind,row in Roster.iterrows():\n",
    "    if (row[\"tulineno\"]==1):\n",
    "        AgeDict[row[\"tucaseid\"]]=row[\"teage\"]"
   ]
  },
  {
   "cell_type": "code",
   "execution_count": 26,
   "metadata": {},
   "outputs": [
    {
     "name": "stderr",
     "output_type": "stream",
     "text": [
      "IOPub data rate exceeded.\n",
      "The notebook server will temporarily stop sending output\n",
      "to the client in order to avoid crashing it.\n",
      "To change this limit, set the config variable\n",
      "`--NotebookApp.iopub_data_rate_limit`.\n"
     ]
    }
   ],
   "source": [
    "print(AgeDict)"
   ]
  },
  {
   "cell_type": "code",
   "execution_count": 3,
   "metadata": {},
   "outputs": [
    {
     "name": "stdout",
     "output_type": "stream",
     "text": [
      "   DayOfWeek  Sleep     Weight  WeightXSleep\n",
      "0          6    870  8155463.0  7.095253e+09\n",
      "1          7    620  1735323.0  1.075900e+09\n",
      "2          7    560  3830528.0  2.145096e+09\n",
      "3          5    720  6622023.0  4.767857e+09\n",
      "4          5    385  3068387.0  1.181329e+09\n"
     ]
    }
   ],
   "source": [
    "#Combine day of week and stat weight from Respondent file with Sleep amount from above\n",
    "\n",
    "cols=[\"DayOfWeek\",\"Sleep\",\"Weight\"]\n",
    "\n",
    "SleepList=[]\n",
    "SleepInd=0\n",
    "#SleepData.loc[1]=[5,2]\n",
    "\n",
    "for ind, row in Respondent.iterrows():\n",
    "    if (row[\"tulineno\"]==1 and math.isnan(row[\"tudiaryday\"]) != True) and row[\"tucaseid\"] in SleepDict.keys():\n",
    "        SleepList.append([row[\"tudiaryday\"],SleepDict[row[\"tucaseid\"]],row[\"tufnwgtp\"]])\n",
    "        #SleepData.loc[SleepInd]=[row[\"teage\"],SleepDict[row[\"tucaseid\"]]]\n",
    "        #SleepInd+=1\n",
    "SleepData=pd.DataFrame(SleepList,columns=cols)\n",
    "SleepData[\"WeightXSleep\"]=SleepData[\"Weight\"]*SleepData[\"Sleep\"]\n",
    "print(SleepData.head())"
   ]
  },
  {
   "cell_type": "code",
   "execution_count": 27,
   "metadata": {},
   "outputs": [
    {
     "name": "stdout",
     "output_type": "stream",
     "text": [
      "   DayOfWeek  Sleep     Weight  Age  WeightXSleep\n",
      "0          6    600  8155463.0   60  4.893278e+09\n",
      "1          7    180  1735323.0   41  3.123581e+08\n",
      "2          7    300  3830528.0   26  1.149158e+09\n",
      "3          5    360  6622023.0   36  2.383928e+09\n",
      "4          5     60  3068387.0   51  1.841032e+08\n",
      "   DayOfWeek  Sleep     Weight  Age  WeightXSleep\n",
      "0          6    270  8155463.0   60  2.201975e+09\n",
      "1          7    440  1735323.0   41  7.635421e+08\n",
      "2          7    260  3830528.0   26  9.959373e+08\n",
      "3          5    360  6622023.0   36  2.383928e+09\n",
      "4          5    325  3068387.0   51  9.972258e+08\n"
     ]
    }
   ],
   "source": [
    "#Combine day of week and stat weight from Respondent file with Sleep amount from above\n",
    "#Use morning and night separated sleep\n",
    "\n",
    "import math\n",
    "\n",
    "cols=[\"DayOfWeek\",\"Sleep\",\"Weight\",\"Age\"]\n",
    "\n",
    "SleepList1=[]\n",
    "SleepList2=[]\n",
    "\n",
    "for ind, row in Respondent.iterrows():\n",
    "    if (row[\"tulineno\"]==1 and math.isnan(row[\"tudiaryday\"]) != True) and row[\"tucaseid\"] in SleepDict1.keys():\n",
    "        SleepList1.append([row[\"tudiaryday\"],SleepDict1[row[\"tucaseid\"]],row[\"tufnwgtp\"],AgeDict[row[\"tucaseid\"]]])\n",
    "    if (row[\"tulineno\"]==1 and math.isnan(row[\"tudiaryday\"]) != True) and row[\"tucaseid\"] in SleepDict2.keys():\n",
    "        SleepList2.append([row[\"tudiaryday\"],SleepDict2[row[\"tucaseid\"]],row[\"tufnwgtp\"],AgeDict[row[\"tucaseid\"]]])\n",
    "SleepData1=pd.DataFrame(SleepList1,columns=cols)\n",
    "SleepData1[\"WeightXSleep\"]=SleepData1[\"Weight\"]*SleepData1[\"Sleep\"]\n",
    "print(SleepData1.head())\n",
    "SleepData2=pd.DataFrame(SleepList2,columns=cols)\n",
    "SleepData2[\"WeightXSleep\"]=SleepData2[\"Weight\"]*SleepData2[\"Sleep\"]\n",
    "print(SleepData2.head())"
   ]
  },
  {
   "cell_type": "code",
   "execution_count": 25,
   "metadata": {},
   "outputs": [
    {
     "data": {
      "text/plain": [
       "array([0, 1, 2, 3, 4])"
      ]
     },
     "execution_count": 25,
     "metadata": {},
     "output_type": "execute_result"
    }
   ],
   "source": [
    "np.arange(5)"
   ]
  },
  {
   "cell_type": "code",
   "execution_count": 4,
   "metadata": {},
   "outputs": [
    {
     "name": "stdout",
     "output_type": "stream",
     "text": [
      "              Sleep        Weight  WeightXSleep      wtdavg\n",
      "DayOfWeek                                                  \n",
      "1          24810779  1.624898e+11  9.333707e+13  574.418012\n",
      "2           8704136  1.626074e+11  8.283574e+13  509.421595\n",
      "3           8534821  1.634645e+11  8.219630e+13  502.839012\n",
      "4           8560125  1.633597e+11  8.246685e+13  504.817634\n",
      "5           8335856  1.627144e+11  8.147268e+13  500.709858\n"
     ]
    }
   ],
   "source": [
    "#Pivot all data into bins by day of week\n",
    "\n",
    "grouped = SleepData.groupby('DayOfWeek').sum()\n",
    "grouped['wtdavg'] = grouped['WeightXSleep'] / grouped['Weight']\n",
    "print(grouped.head())"
   ]
  },
  {
   "cell_type": "code",
   "execution_count": 45,
   "metadata": {},
   "outputs": [
    {
     "name": "stdout",
     "output_type": "stream",
     "text": [
      "     DayOfWeek   Sleep        Weight  WeightXSleep      wtdavg\n",
      "Age                                                           \n",
      "15        7919  512062  1.707799e+10  3.925330e+12  229.847252\n",
      "16       11204  725452  2.369483e+10  5.611448e+12  236.821654\n",
      "17       10285  699343  2.307756e+10  5.656486e+12  245.107594\n",
      "18        7421  538764  1.830151e+10  5.151680e+12  281.489336\n",
      "19        5549  412551  1.507080e+10  4.372188e+12  290.109802\n",
      "     DayOfWeek   Sleep        Weight  WeightXSleep      wtdavg\n",
      "Age                                                           \n",
      "15        7978  698856  1.726384e+10  6.045150e+12  350.162465\n",
      "16       11221  918857  2.393574e+10  8.024793e+12  335.264051\n",
      "17       10183  855069  2.298301e+10  7.635006e+12  332.202094\n",
      "18        7335  548520  1.813037e+10  5.597840e+12  308.754926\n",
      "19        5484  409420  1.505448e+10  4.492657e+12  298.426617\n"
     ]
    }
   ],
   "source": [
    "#Pivot all data into bins by age\n",
    "\n",
    "grouped1A = SleepData1.groupby('Age').sum()\n",
    "grouped1A['wtdavg'] = grouped1A['WeightXSleep'] / grouped1A['Weight']\n",
    "print(grouped1A.head())\n",
    "grouped2A = SleepData2.groupby('Age').sum()\n",
    "grouped2A['wtdavg'] = grouped2A['WeightXSleep'] / grouped2A['Weight']\n",
    "print(grouped2A.head())\n",
    "\n",
    "#Combine morning and night sleep\n",
    "GroupedSplitA=[]\n",
    "Remap=[2,3,4,5,6,7,1]\n",
    "for i in grouped1A[\"wtdavg\"].keys():\n",
    "    GroupedSplitA.append((grouped1A[\"wtdavg\"][i]+grouped2A[\"wtdavg\"][i])/60)"
   ]
  },
  {
   "cell_type": "code",
   "execution_count": 47,
   "metadata": {},
   "outputs": [
    {
     "data": {
      "text/plain": [
       "Text(0,0.5,'Average Sleep (hrs)')"
      ]
     },
     "execution_count": 47,
     "metadata": {},
     "output_type": "execute_result"
    },
    {
     "data": {
      "image/png": "[encoded data removed]",
      "text/plain": [
       "<matplotlib.figure.Figure at 0x426ed0b8>"
      ]
     },
     "metadata": {},
     "output_type": "display_data"
    }
   ],
   "source": [
    "plt.plot(grouped1A[\"wtdavg\"].keys(),GroupedSplitA)\n",
    "plt.xlabel('Age')\n",
    "plt.ylabel('Average Sleep (hrs)')"
   ]
  },
  {
   "cell_type": "code",
   "execution_count": 1,
   "metadata": {},
   "outputs": [
    {
     "ename": "NameError",
     "evalue": "name 'grouped1A' is not defined",
     "output_type": "error",
     "traceback": [
      "\u001b[1;31m---------------------------------------------------------------------------\u001b[0m",
      "\u001b[1;31mNameError\u001b[0m                                 Traceback (most recent call last)",
      "\u001b[1;32m<ipython-input-1-91aa03ed4d37>\u001b[0m in \u001b[0;36m<module>\u001b[1;34m()\u001b[0m\n\u001b[0;32m      6\u001b[0m \u001b[0mCounts\u001b[0m\u001b[1;33m=\u001b[0m\u001b[0mnp\u001b[0m\u001b[1;33m.\u001b[0m\u001b[0mzeros\u001b[0m\u001b[1;33m(\u001b[0m\u001b[1;33m(\u001b[0m\u001b[0mlen\u001b[0m\u001b[1;33m(\u001b[0m\u001b[0mEdges\u001b[0m\u001b[1;33m)\u001b[0m\u001b[1;33m-\u001b[0m\u001b[1;36m1\u001b[0m\u001b[1;33m,\u001b[0m\u001b[1;36m1\u001b[0m\u001b[1;33m)\u001b[0m\u001b[1;33m)\u001b[0m\u001b[1;33m\u001b[0m\u001b[0m\n\u001b[0;32m      7\u001b[0m \u001b[1;32mfor\u001b[0m \u001b[0mind\u001b[0m\u001b[1;33m,\u001b[0m\u001b[0mi\u001b[0m \u001b[1;32min\u001b[0m \u001b[0menumerate\u001b[0m\u001b[1;33m(\u001b[0m\u001b[0mEdges\u001b[0m\u001b[1;33m[\u001b[0m\u001b[1;36m0\u001b[0m\u001b[1;33m:\u001b[0m\u001b[0mlen\u001b[0m\u001b[1;33m(\u001b[0m\u001b[0mEdges\u001b[0m\u001b[1;33m)\u001b[0m\u001b[1;33m-\u001b[0m\u001b[1;36m1\u001b[0m\u001b[1;33m]\u001b[0m\u001b[1;33m)\u001b[0m\u001b[1;33m:\u001b[0m\u001b[1;33m\u001b[0m\u001b[0m\n\u001b[1;32m----> 8\u001b[1;33m     \u001b[1;32mfor\u001b[0m \u001b[0mind2\u001b[0m\u001b[1;33m,\u001b[0m\u001b[0mage\u001b[0m \u001b[1;32min\u001b[0m \u001b[0menumerate\u001b[0m\u001b[1;33m(\u001b[0m\u001b[0mgrouped1A\u001b[0m\u001b[1;33m[\u001b[0m\u001b[1;34m\"wtdavg\"\u001b[0m\u001b[1;33m]\u001b[0m\u001b[1;33m.\u001b[0m\u001b[0mkeys\u001b[0m\u001b[1;33m(\u001b[0m\u001b[1;33m)\u001b[0m\u001b[1;33m)\u001b[0m\u001b[1;33m:\u001b[0m\u001b[1;33m\u001b[0m\u001b[0m\n\u001b[0m\u001b[0;32m      9\u001b[0m         \u001b[1;32mif\u001b[0m \u001b[1;33m(\u001b[0m\u001b[0mage\u001b[0m\u001b[1;33m>=\u001b[0m\u001b[0mi\u001b[0m\u001b[1;33m)\u001b[0m \u001b[1;33m&\u001b[0m \u001b[1;33m(\u001b[0m\u001b[0mage\u001b[0m\u001b[1;33m<\u001b[0m\u001b[0mi\u001b[0m\u001b[1;33m+\u001b[0m\u001b[0mWindow\u001b[0m\u001b[1;33m)\u001b[0m\u001b[1;33m:\u001b[0m\u001b[1;33m\u001b[0m\u001b[0m\n\u001b[0;32m     10\u001b[0m             \u001b[0mSums\u001b[0m\u001b[1;33m[\u001b[0m\u001b[0mind\u001b[0m\u001b[1;33m]\u001b[0m\u001b[1;33m+=\u001b[0m\u001b[0mGroupedSplitA\u001b[0m\u001b[1;33m[\u001b[0m\u001b[0mind2\u001b[0m\u001b[1;33m]\u001b[0m\u001b[1;33m\u001b[0m\u001b[0m\n",
      "\u001b[1;31mNameError\u001b[0m: name 'grouped1A' is not defined"
     ]
    }
   ],
   "source": [
    "import numpy as np\n",
    "\n",
    "Window=2\n",
    "Edges=np.arange(np.ceil(65/Window))*Window+15\n",
    "Sums=np.zeros((len(Edges)-1,1))\n",
    "Counts=np.zeros((len(Edges)-1,1))\n",
    "for ind,i in enumerate(Edges[0:len(Edges)-1]):\n",
    "    for ind2,age in enumerate(grouped1A[\"wtdavg\"].keys()):\n",
    "        if (age>=i) & (age<i+Window):\n",
    "            Sums[ind]+=GroupedSplitA[ind2]\n",
    "            Counts[ind]+=1\n",
    "Avgs=Sums/Counts   \n",
    "\n",
    "plt.plot(Edges[0:len(Edges)-1],Avgs)\n",
    "plt.xlabel('Age')\n",
    "plt.ylabel('Average Sleep per Night (hrs)')\n",
    "plt.savefig(\"SleepVsAge_W2.png\")"
   ]
  },
  {
   "cell_type": "code",
   "execution_count": 79,
   "metadata": {},
   "outputs": [
    {
     "data": {
      "text/plain": [
       "6.0"
      ]
     },
     "execution_count": 79,
     "metadata": {},
     "output_type": "execute_result"
    }
   ],
   "source": [
    "np.ceil(5.6)"
   ]
  },
  {
   "cell_type": "code",
   "execution_count": 30,
   "metadata": {},
   "outputs": [],
   "source": [
    "#Pivot all data into bins by day of week\n",
    "\n",
    "grouped1 = SleepData1.groupby('DayOfWeek').sum()\n",
    "grouped1['wtdavg'] = grouped1['WeightXSleep'] / grouped1['Weight']\n",
    "print(grouped1.head())\n",
    "grouped2 = SleepData2.groupby('DayOfWeek').sum()\n",
    "grouped2['wtdavg'] = grouped2['WeightXSleep'] / grouped2['Weight']\n",
    "print(grouped2.head())\n",
    "\n",
    "#Combine morning and night sleep\n",
    "GroupedSplit=[]\n",
    "Remap=[2,3,4,5,6,7,1]\n",
    "for i in np.arange(7)+1:\n",
    "    GroupedSplit.append((grouped1[\"wtdavg\"][Remap[i-1]]+grouped2[\"wtdavg\"][i])/60)"
   ]
  },
  {
   "cell_type": "code",
   "execution_count": 37,
   "metadata": {},
   "outputs": [
    {
     "data": {
      "image/png": "[encoded data removed]",
      "text/plain": [
       "<matplotlib.figure.Figure at 0x426108d0>"
      ]
     },
     "metadata": {},
     "output_type": "display_data"
    }
   ],
   "source": [
    "#Plot\n",
    "\n",
    "plt.bar([1,2,3,4,5,6,7],GroupedSplit)\n",
    "plt.ylim([8.25,9.5])\n",
    "plt.xlabel(\"Night of Week\")\n",
    "plt.xticks(np.arange(7)+1,('Sun','Mon','Tues','Wed','Thurs','Fri','Sat'))\n",
    "plt.ylabel(\"Average Sleep per Night (hrs)\")\n",
    "plt.savefig(\"SleepVsDOW.png\")"
   ]
  },
  {
   "cell_type": "code",
   "execution_count": 9,
   "metadata": {},
   "outputs": [
    {
     "data": {
      "text/plain": [
       "Text(0,0.5,'Average Sleep per Night (hrs)')"
      ]
     },
     "execution_count": 9,
     "metadata": {},
     "output_type": "execute_result"
    },
    {
     "data": {
      "image/png": "[encoded data removed]",
      "text/plain": [
       "<matplotlib.figure.Figure at 0x44329358>"
      ]
     },
     "metadata": {},
     "output_type": "display_data"
    }
   ],
   "source": [
    "#Plot\n",
    "\n",
    "plt.bar([1,2,3,4,5,6,7],grouped[\"wtdavg\"]/60)\n",
    "plt.ylim([7.5,10])\n",
    "plt.xlabel(\"Day of Week (1 is Sunday)\")\n",
    "plt.ylabel(\"Average Sleep per Night (hrs)\")"
   ]
  },
  {
   "cell_type": "code",
   "execution_count": null,
   "metadata": {},
   "outputs": [],
   "source": []
  }
 ],
 "metadata": {
  "kernelspec": {
   "display_name": "Python 3",
   "language": "python",
   "name": "python3"
  },
  "language_info": {
   "codemirror_mode": {
    "name": "ipython",
    "version": 3
   },
   "file_extension": ".py",
   "mimetype": "text/x-python",
   "name": "python",
   "nbconvert_exporter": "python",
   "pygments_lexer": "ipython3",
   "version": "3.6.3"
  }
 },
 "nbformat": 4,
 "nbformat_minor": 2
}

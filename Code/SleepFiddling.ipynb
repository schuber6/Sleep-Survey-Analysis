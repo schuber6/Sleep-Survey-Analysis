{
 "cells": [
  {
   "cell_type": "code",
   "execution_count": 1,
   "metadata": {},
   "outputs": [
    {
     "name": "stdout",
     "output_type": "stream",
     "text": [
      "       code                                               name\n",
      "0         1                           Personal Care Activities\n",
      "1       101                                           Sleeping\n",
      "2       102                                           Grooming\n",
      "3       103                           Health-related self care\n",
      "4       104                                Personal Activities\n",
      "5       105                          Personal Care Emergencies\n",
      "6       199                             Personal care, n.e.c.*\n",
      "7         2                               Household Activities\n",
      "8       201                                          Housework\n",
      "9       202  Food & Drink Preparation, Presentation, & Clea...\n",
      "10      203          Interior Maintenance, Repair & Decoration\n",
      "11      204          Exterior Maintenance, Repair & Decoration\n",
      "12      205                      Lawn, Garden, and Houseplants\n",
      "13      206                                   Animals and Pets\n",
      "14      207                                           Vehicles\n",
      "15      208                        Appliances, Tools, and Toys\n",
      "16      209                               Household Management\n",
      "17      299                      Household activities, n.e.c.*\n",
      "18        3        Caring For & Helping Household (HH) Members\n",
      "19      301                   Caring For & Helping HH Children\n",
      "20      302      Activities Related to HH Children's Education\n",
      "21      303         Activities Related to HH Children's Health\n",
      "22      304                        Caring for Household Adults\n",
      "23      305                           Helping Household Adults\n",
      "24      399                 Caring For & Helping NonHH Members\n",
      "25        4  Caring for & Helping Nonhousehold (NonHH) Members\n",
      "26      401         Caring for & Helping Nonhousehold Children\n",
      "27      402   Activities Related to Nonhh Children's Education\n",
      "28      403      Activities Related to Nonhh Children's Health\n",
      "29      404                     Caring For Nonhousehold Adults\n",
      "..      ...                                                ...\n",
      "500  180807        Travel related to using veterinary services\n",
      "501  180899  Travel rel. to using prof. & personal care ser...\n",
      "502  180901         Travel related to using household services\n",
      "503  180902  Travel related to using home main./repair/déco...\n",
      "504  180903     Travel related to using pet services (not vet)\n",
      "505  180904   Travel related to using lawn and garden services\n",
      "506  180905  Travel related to using vehicle maintenance & ...\n",
      "507  180999  Travel related to using household services, n....\n",
      "508  181002  Travel related to civic obligations & particip...\n",
      "509  181099  Travel rel. to govt svcs & civic obligations, ...\n",
      "510  181101              Travel related to eating and drinking\n",
      "511  181199     Travel related to eating and drinking, n.e.c.*\n",
      "512  181201    Travel related to socializing and communicating\n",
      "513  181202  Travel related to attending or hosting social ...\n",
      "514  181283             Travel related to relaxing and leisure\n",
      "515  181204           Travel related to arts and entertainment\n",
      "516  181299  Travel rel. to socializing, relaxing, & leisur...\n",
      "517  181301  Travel related to participating in sports/exer...\n",
      "518  181302  Travel related to attending sporting/recreatio...\n",
      "519  181399  Travel related to sports, exercise, & recreati...\n",
      "520  181401    Travel related to religious/spiritual practices\n",
      "521  181499  Travel rel. to religious/spiritual activities,...\n",
      "522  181501                     Travel related to volunteering\n",
      "523  181599    Travel related to volunteer activities, n.e.c.*\n",
      "524  181601                      Travel related to phone calls\n",
      "525  181699                Travel rel. to phone calls, n.e.c.*\n",
      "526  181801           Security procedures related to traveling\n",
      "527  181899  Security procedures related to traveling, n.e.c.*\n",
      "528  189999                                 Traveling, n.e.c.*\n",
      "529  509989                    Insufficient detail in verbatim\n",
      "\n",
      "[530 rows x 2 columns]\n"
     ]
    }
   ],
   "source": [
    "import pandas as pd\n",
    "D=pd.read_csv(\"ATUS_Survey/codes.csv\")\n",
    "print(D)"
   ]
  },
  {
   "cell_type": "code",
   "execution_count": 2,
   "metadata": {},
   "outputs": [
    {
     "name": "stdout",
     "output_type": "stream",
     "text": [
      "Index(['tucaseid', 'tuactivity_n', 'tuactdur24', 'tucc5', 'tucc5b',\n",
      "       'trtcctot_ln', 'trtcc_ln', 'trtcoc_ln', 'tustarttim', 'tustoptime',\n",
      "       'trcodep', 'trtier1p', 'trtier2p', 'tucc8', 'tucumdur', 'tucumdur24',\n",
      "       'tuactdur', 'tr_03cc57', 'trto_ln', 'trtonhh_ln', 'trtohh_ln',\n",
      "       'trthh_ln', 'trtnohh_ln', 'tewhere', 'tucc7', 'trwbelig', 'trtec_ln',\n",
      "       'tuec24', 'tudurstop'],\n",
      "      dtype='object')\n"
     ]
    }
   ],
   "source": [
    "import pandas as pd\n",
    "D=pd.read_csv(\"ATUS_Survey/atusact.csv\")\n",
    "#print(D.head(10))\n",
    "print(D.columns)"
   ]
  },
  {
   "cell_type": "code",
   "execution_count": 35,
   "metadata": {},
   "outputs": [
    {
     "name": "stdout",
     "output_type": "stream",
     "text": [
      "0    1301\n",
      "1     102\n",
      "2     101\n",
      "3    1203\n",
      "4    1101\n",
      "5    1203\n",
      "6     101\n",
      "7     102\n",
      "8    1301\n",
      "9     101\n",
      "Name: trtier2p, dtype: int64\n"
     ]
    }
   ],
   "source": [
    "print(D[\"trtier2p\"].head(10))"
   ]
  },
  {
   "cell_type": "code",
   "execution_count": 36,
   "metadata": {},
   "outputs": [
    {
     "name": "stdout",
     "output_type": "stream",
     "text": [
      "0    130124\n",
      "1     10201\n",
      "2     10101\n",
      "3    120303\n",
      "4    110101\n",
      "5    120303\n",
      "6     10101\n",
      "7     10201\n",
      "8    130124\n",
      "9     10101\n",
      "Name: trcodep, dtype: int64\n"
     ]
    }
   ],
   "source": [
    "print(D[\"trcodep\"].head(10))"
   ]
  },
  {
   "cell_type": "code",
   "execution_count": 5,
   "metadata": {},
   "outputs": [
    {
     "name": "stdout",
     "output_type": "stream",
     "text": [
      "0    13\n",
      "1     1\n",
      "2     1\n",
      "3    12\n",
      "4    11\n",
      "5    12\n",
      "6     1\n",
      "7     1\n",
      "8    13\n",
      "9     1\n",
      "Name: trtier1p, dtype: int64\n"
     ]
    }
   ],
   "source": [
    "print(D[\"trtier1p\"].head(10))"
   ]
  },
  {
   "cell_type": "code",
   "execution_count": 3,
   "metadata": {},
   "outputs": [
    {
     "name": "stdout",
     "output_type": "stream",
     "text": [
      "170842\n"
     ]
    }
   ],
   "source": [
    "import pandas as pd\n",
    "SU=pd.read_csv(\"ATUS_Survey/atussum.csv\")\n",
    "#print(SU.head(10))\n",
    "print(len(SU[\"tucaseid\"])) "
   ]
  },
  {
   "cell_type": "markdown",
   "metadata": {},
   "source": [
    "Number of respondents judging from summary file is 170842."
   ]
  },
  {
   "cell_type": "code",
   "execution_count": 4,
   "metadata": {},
   "outputs": [
    {
     "name": "stdout",
     "output_type": "stream",
     "text": [
      "170842\n"
     ]
    }
   ],
   "source": [
    "import numpy as np\n",
    "NID=np.unique(D[\"tucaseid\"])\n",
    "print(len(NID))"
   ]
  },
  {
   "cell_type": "markdown",
   "metadata": {},
   "source": [
    "Number of case ids in activity log matches!"
   ]
  },
  {
   "cell_type": "code",
   "execution_count": 5,
   "metadata": {},
   "outputs": [
    {
     "name": "stdout",
     "output_type": "stream",
     "text": [
      "373666\n",
      "3347093\n"
     ]
    }
   ],
   "source": [
    "S=sum(D[\"trtier2p\"]==101) \n",
    "T=len(D[\"trtier1p\"])\n",
    "print(S)\n",
    "print(T)"
   ]
  },
  {
   "cell_type": "code",
   "execution_count": 40,
   "metadata": {},
   "outputs": [
    {
     "name": "stdout",
     "output_type": "stream",
     "text": [
      "8.804018820508619\n"
     ]
    }
   ],
   "source": [
    "sleep=D[\"tuactdur24\"][D[\"trtier2p\"]==101].sum()\n",
    "print(sleep/170842/60)"
   ]
  },
  {
   "cell_type": "markdown",
   "metadata": {},
   "source": [
    "Average person does 8.8 hours of sleep-related activities"
   ]
  },
  {
   "cell_type": "code",
   "execution_count": 41,
   "metadata": {},
   "outputs": [
    {
     "name": "stdout",
     "output_type": "stream",
     "text": [
      "3.641036747404034\n"
     ]
    }
   ],
   "source": [
    "sleepless=D[\"tuactdur24\"][D[\"trcodep\"]==10102].sum()\n",
    "print(sleepless/170842)"
   ]
  },
  {
   "cell_type": "markdown",
   "metadata": {},
   "source": [
    "Average person logged 3.6 minutes of sleeplessness"
   ]
  },
  {
   "cell_type": "code",
   "execution_count": 45,
   "metadata": {},
   "outputs": [
    {
     "name": "stdout",
     "output_type": "stream",
     "text": [
      "0.0475175893516\n",
      "76.6250307958\n"
     ]
    }
   ],
   "source": [
    "sleeplessN=(D[\"trcodep\"]==10102).sum()\n",
    "print(sleeplessN/170842)\n",
    "print(sleepless/sleeplessN)"
   ]
  },
  {
   "cell_type": "markdown",
   "metadata": {},
   "source": [
    "5% of people were sleepless.  The sleepless people averaged 77 minutes of sleeplessness."
   ]
  },
  {
   "cell_type": "code",
   "execution_count": null,
   "metadata": {},
   "outputs": [],
   "source": []
  }
 ],
 "metadata": {
  "kernelspec": {
   "display_name": "Python 3",
   "language": "python",
   "name": "python3"
  },
  "language_info": {
   "codemirror_mode": {
    "name": "ipython",
    "version": 3
   },
   "file_extension": ".py",
   "mimetype": "text/x-python",
   "name": "python",
   "nbconvert_exporter": "python",
   "pygments_lexer": "ipython3",
   "version": "3.6.3"
  }
 },
 "nbformat": 4,
 "nbformat_minor": 2
}

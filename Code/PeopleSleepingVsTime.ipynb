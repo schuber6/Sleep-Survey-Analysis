{
 "cells": [
  {
   "cell_type": "code",
   "execution_count": 1,
   "metadata": {},
   "outputs": [],
   "source": [
    "import pandas as pd\n",
    "Codes=pd.read_csv(\"ATUS_Survey/codes.csv\")\n",
    "Activities=pd.read_csv(\"ATUS_Survey/atusact.csv\")\n",
    "Summary=pd.read_csv(\"ATUS_Survey/atussum.csv\")\n",
    "#print(SU.head(10))\n",
    "N_people=len(Summary[\"tucaseid\"]) "
   ]
  },
  {
   "cell_type": "code",
   "execution_count": 9,
   "metadata": {},
   "outputs": [
    {
     "name": "stdout",
     "output_type": "stream",
     "text": [
      "365548\n"
     ]
    }
   ],
   "source": [
    "#(Activities[\"trcodep\"]==10101) | (Activities[\"trcodep\"]==10199)\n",
    "N_sleeps=0\n",
    "#for ind,row in Activities.iterrows():\n",
    "#    if row[\"trcodep\"]==10101 or row[\"trcodep\"]==10199:\n",
    "#        N_sleeps+=1\n",
    "for code in Activities[\"trcodep\"]:\n",
    "    if code==10101 or code==10199:\n",
    "        N_sleeps+=1\n",
    "print(N_sleeps)\n",
    "\n",
    "    "
   ]
  },
  {
   "cell_type": "code",
   "execution_count": 8,
   "metadata": {},
   "outputs": [
    {
     "name": "stdout",
     "output_type": "stream",
     "text": [
      "3347093\n"
     ]
    }
   ],
   "source": [
    "N_acts=len(Activities[\"trcodep\"])\n",
    "print(N_acts)"
   ]
  },
  {
   "cell_type": "code",
   "execution_count": 60,
   "metadata": {},
   "outputs": [
    {
     "name": "stdout",
     "output_type": "stream",
     "text": [
      "365548\n"
     ]
    }
   ],
   "source": [
    "import numpy as np\n",
    "sleepinds=(Activities[\"trcodep\"]==10101) | (Activities[\"trcodep\"]==10199)\n",
    "print(np.sum(sleepinds))"
   ]
  },
  {
   "cell_type": "code",
   "execution_count": 16,
   "metadata": {},
   "outputs": [
    {
     "name": "stdout",
     "output_type": "stream",
     "text": [
      "0    04:00:00\n",
      "1    05:00:00\n",
      "2    05:30:00\n",
      "3    15:30:00\n",
      "4    18:00:00\n",
      "Name: tustarttim, dtype: object\n"
     ]
    }
   ],
   "source": [
    "print(Activities[\"tustarttim\"].head())"
   ]
  },
  {
   "cell_type": "code",
   "execution_count": 17,
   "metadata": {},
   "outputs": [
    {
     "name": "stdout",
     "output_type": "stream",
     "text": [
      "04:00:00\n"
     ]
    }
   ],
   "source": [
    "time1=Activities[\"tustarttim\"][0]\n",
    "print(time1)"
   ]
  },
  {
   "cell_type": "code",
   "execution_count": 21,
   "metadata": {},
   "outputs": [
    {
     "ename": "TypeError",
     "evalue": "an integer is required (got type str)",
     "output_type": "error",
     "traceback": [
      "\u001b[1;31m---------------------------------------------------------------------------\u001b[0m",
      "\u001b[1;31mTypeError\u001b[0m                                 Traceback (most recent call last)",
      "\u001b[1;32m<ipython-input-21-5cb4c89e6691>\u001b[0m in \u001b[0;36m<module>\u001b[1;34m()\u001b[0m\n\u001b[0;32m      1\u001b[0m \u001b[1;32mimport\u001b[0m \u001b[0mdatetime\u001b[0m\u001b[1;33m\u001b[0m\u001b[0m\n\u001b[1;32m----> 2\u001b[1;33m \u001b[0mprint\u001b[0m\u001b[1;33m(\u001b[0m\u001b[0mdatetime\u001b[0m\u001b[1;33m.\u001b[0m\u001b[0mtime\u001b[0m\u001b[1;33m(\u001b[0m\u001b[1;36m5\u001b[0m\u001b[1;33m,\u001b[0m\u001b[1;36m0\u001b[0m\u001b[1;33m,\u001b[0m\u001b[1;36m0\u001b[0m\u001b[1;33m)\u001b[0m\u001b[1;33m>\u001b[0m\u001b[0mdatetime\u001b[0m\u001b[1;33m.\u001b[0m\u001b[0mtime\u001b[0m\u001b[1;33m(\u001b[0m\u001b[0mtime1\u001b[0m\u001b[1;33m)\u001b[0m\u001b[1;33m)\u001b[0m\u001b[1;33m\u001b[0m\u001b[0m\n\u001b[0m",
      "\u001b[1;31mTypeError\u001b[0m: an integer is required (got type str)"
     ]
    }
   ],
   "source": [
    "import datetime\n",
    "print(datetime.time(5,0,0)>datetime.time(time1))"
   ]
  },
  {
   "cell_type": "code",
   "execution_count": 25,
   "metadata": {},
   "outputs": [
    {
     "data": {
      "text/plain": [
       "5.5"
      ]
     },
     "execution_count": 25,
     "metadata": {},
     "output_type": "execute_result"
    }
   ],
   "source": [
    "def Hour(time):\n",
    "    L=time.split(\":\")\n",
    "    return int(L[0])\n",
    "def Minute(time):\n",
    "    L=time.split(\":\")\n",
    "    return int(L[1])\n",
    "def Hour_Decimal(time):\n",
    "    L=time.split(\":\")\n",
    "    return int(L[0])+int(L[1])/60 +int(L[2])/3600\n",
    "Hour_Decimal(Activities[\"tustarttim\"][2])"
   ]
  },
  {
   "cell_type": "code",
   "execution_count": 74,
   "metadata": {},
   "outputs": [
    {
     "name": "stdout",
     "output_type": "stream",
     "text": [
      "[0, 0, 0, 0, 0, 0, 0, 0, 0, 0, 0, 0, 0, 0, 0, 0, 0, 0, 0, 0, 0, 0, 0, 0, 0, 0, 0, 0, 0, 0, 0, 0, 0, 0, 0, 0, 0, 0, 0, 0, 0, 0, 0, 0, 0, 0, 0, 0, 0]\n"
     ]
    }
   ],
   "source": [
    "\n",
    "print(SleepCounts)\n"
   ]
  },
  {
   "cell_type": "code",
   "execution_count": 135,
   "metadata": {},
   "outputs": [
    {
     "name": "stdout",
     "output_type": "stream",
     "text": [
      "[142790, 142968, 143903, 145137, 145868, 145980, 149624, 149337, 150333, 151123, 151183, 151756, 155674, 155257, 155328, 156386, 156709, 156740, 158498, 158035, 158523, 158926, 158901, 159214, 161569, 160073, 160782, 161195, 161151, 161485, 162546, 161832, 162253, 162508, 162407, 162612, 163937, 161938, 162503, 162811, 162668, 162867, 163493, 162263, 162562, 162756, 162490, 162561, 159214, 157418, 157352, 157578, 157558, 157478, 157929, 156103, 156083, 156186, 155609, 155525, 156145, 148353, 148335, 148401, 147594, 147420, 147744, 139456, 139440, 139465, 138194, 138023, 138560, 118288, 118267, 118356, 117187, 116938, 117170, 103591, 103555, 103572, 102265, 102106, 102413, 77665, 77662, 77785, 77145, 77017, 77248, 65478, 65467, 65552, 65016, 64971, 65281, 43676, 43815, 43890, 43562, 43599, 43798, 36671, 36785, 36848, 36594, 36674, 36923, 22948, 23062, 23127, 22982, 23045, 23229, 19717, 19781, 19822, 19712, 19775, 20038, 12150, 12285, 12361, 12317, 12403, 12578, 10896, 10982, 11053, 10969, 11063, 11364, 7769, 7917, 7996, 7953, 8081, 8286, 7531, 7679, 7795, 7734, 7900, 8440, 5828, 6112, 6285, 6226, 6469, 7027, 6595, 6897, 7129, 7074, 7350, 8203, 7086, 7406, 7628, 7534, 7833, 8384, 7814, 8101, 8292, 8153, 8410, 9340, 7811, 8165, 8362, 8204, 8449, 9002, 8160, 8442, 8576, 8373, 8592, 9285, 7541, 7777, 7925, 7724, 7871, 8316, 7455, 7665, 7779, 7599, 7715, 8259, 6614, 6507, 6770, 6728, 6631, 7030, 6228, 6167, 6325, 6233, 6151, 6562, 5222, 5150, 5320, 5268, 5189, 5488, 4911, 4855, 4982, 4928, 4866, 5333, 4400, 4353, 4515, 4509, 4456, 4796, 4404, 4359, 4579, 4599, 4579, 5395, 4774, 4760, 5044, 5164, 5141, 5901, 5711, 5725, 6123, 6309, 6328, 9070, 8864, 8903, 9775, 10233, 10295, 13125, 13307, 13386, 14694, 15324, 15440, 24793, 25371, 25580, 28278, 29490, 29666, 38346, 39352, 39537, 43052, 44517, 44748, 64071, 65489, 65836, 70986, 73137, 73434, 86964, 88384, 88694, 93191, 94705, 94967, 112129, 113262, 113543, 117735, 119249, 119460, 128638, 129459, 129647, 132430, 133347, 133475, 134100]\n"
     ]
    }
   ],
   "source": [
    "times=np.arange(0,24+1/12,1/12)\n",
    "SleepCounts=[0]*len(times)\n",
    "Sample=len(Activities)\n",
    "for ind,row in Activities[sleepinds].head(Sample).iterrows():\n",
    "    S=Hour_Decimal(row[\"tustarttim\"])\n",
    "    E=Hour_Decimal(row[\"tustoptime\"])\n",
    "    if S<4 and E>4: #Make sure people don't have >24 hr logged\n",
    "        E=3.99\n",
    "    #index=(times>=S) & (times<=E)\n",
    "    for ind,counts in enumerate(SleepCounts):\n",
    "        if S<E and (times[ind]>=S and times[ind]<=E):\n",
    "            SleepCounts[ind]+=1\n",
    "        else:\n",
    "            if S>E and (times[ind]>=S or (times[ind]<=E and times[ind]<4)):\n",
    "                SleepCounts[ind]+=1\n",
    "                \n",
    "print(SleepCounts)\n",
    "NSample=len(np.unique(Activities[sleepinds].head(Sample)[\"tucaseid\"]))"
   ]
  },
  {
   "cell_type": "code",
   "execution_count": 136,
   "metadata": {},
   "outputs": [
    {
     "data": {
      "image/png": "[encoded data removed]",
      "text/plain": [
       "<matplotlib.figure.Figure at 0x56fde438>"
      ]
     },
     "metadata": {},
     "output_type": "display_data"
    }
   ],
   "source": [
    "import matplotlib.pyplot as plt\n",
    "NSleepCounts=[x/NSample for x in SleepCounts]\n",
    "plt.plot(times,NSleepCounts)\n",
    "plt.show()"
   ]
  },
  {
   "cell_type": "code",
   "execution_count": 137,
   "metadata": {},
   "outputs": [
    {
     "name": "stdout",
     "output_type": "stream",
     "text": [
      "[ 3.]\n",
      "0.960847981151\n"
     ]
    }
   ],
   "source": [
    "WitchingHour=times[SleepCounts==np.max(SleepCounts)]\n",
    "print(WitchingHour)\n",
    "print(np.max(NSleepCounts))"
   ]
  },
  {
   "cell_type": "code",
   "execution_count": 130,
   "metadata": {},
   "outputs": [
    {
     "data": {
      "text/plain": [
       "170617"
      ]
     },
     "execution_count": 130,
     "metadata": {},
     "output_type": "execute_result"
    }
   ],
   "source": [
    "NSample"
   ]
  },
  {
   "cell_type": "markdown",
   "metadata": {},
   "source": [
    "Over a sample of 170617 people, the time when the most people are asleep is 3:00 a.m. and 96% of people are asleep then."
   ]
  },
  {
   "cell_type": "markdown",
   "metadata": {},
   "source": [
    "People like to round their start and stop times, so even though the plot has 5 minute precision, because I included both start and stop time in my counts, 3:00 gets a significant bump compared to the next time: 3:05.  3:00 should still be the actual most slept time within 15-30 minutes, though."
   ]
  },
  {
   "cell_type": "code",
   "execution_count": null,
   "metadata": {},
   "outputs": [],
   "source": []
  }
 ],
 "metadata": {
  "kernelspec": {
   "display_name": "Python 3",
   "language": "python",
   "name": "python3"
  },
  "language_info": {
   "codemirror_mode": {
    "name": "ipython",
    "version": 3
   },
   "file_extension": ".py",
   "mimetype": "text/x-python",
   "name": "python",
   "nbconvert_exporter": "python",
   "pygments_lexer": "ipython3",
   "version": "3.6.3"
  }
 },
 "nbformat": 4,
 "nbformat_minor": 2
}

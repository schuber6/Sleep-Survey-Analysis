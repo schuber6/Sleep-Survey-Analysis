{
 "cells": [
  {
   "cell_type": "code",
   "execution_count": 1,
   "metadata": {
    "collapsed": true
   },
   "outputs": [],
   "source": [
    "#import packages and data\n",
    "\n",
    "import pandas as pd\n",
    "import numpy as np\n",
    "import matplotlib.pyplot as plt\n",
    "%matplotlib inline\n",
    "Codes=pd.read_csv(\"ATUS_Survey/codes.csv\")\n",
    "Activities=pd.read_csv(\"ATUS_Survey/atusact.csv\")\n",
    "Summary=pd.read_csv(\"ATUS_Survey/atussum.csv\")\n",
    "Respondent=pd.read_csv(\"ATUS_Survey/atusresp.csv\")\n",
    "#print(SU.head(10))\n",
    "N_people=len(Summary[\"tucaseid\"])  #Initialize all dataframes and store number of people as variable\n",
    "Roster=pd.read_csv(\"ATUS_Survey/atusrost.csv\")"
   ]
  },
  {
   "cell_type": "code",
   "execution_count": 2,
   "metadata": {
    "collapsed": true
   },
   "outputs": [],
   "source": [
    "#Record age, day of week, and stat weight data from Respondent and Roster files\n",
    "\n",
    "import math\n",
    "\n",
    "cols=[\"DayOfWeek\",\"Sleep\",\"Weight\",\"Age\"]\n",
    "\n",
    "#keys from \"tucaseid\n",
    "DOWDict={}  #tudiaryday--frum Respondent\n",
    "WeightDict={}  #tufnwgtp--from Respondent\n",
    "AgeDict={}  #teage--from Roster\n",
    "\n",
    "for ind,row in Roster.iterrows():\n",
    "    if (row[\"tulineno\"]==1):\n",
    "        AgeDict[row[\"tucaseid\"]]=row[\"teage\"]\n",
    "\n",
    "for ind, row in Respondent.iterrows():\n",
    "    if (row[\"tulineno\"]==1 and math.isnan(row[\"tudiaryday\"]) != True):\n",
    "        DOWDict[row[\"tucaseid\"]]=row[\"tudiaryday\"]\n",
    "        WeightDict[row[\"tucaseid\"]]=row['tufnwgtp']"
   ]
  },
  {
   "cell_type": "code",
   "execution_count": 4,
   "metadata": {},
   "outputs": [
    {
     "name": "stdout",
     "output_type": "stream",
     "text": [
      "365548\n"
     ]
    }
   ],
   "source": [
    "import numpy as np\n",
    "sleepinds=(Activities[\"trcodep\"]==10101) | (Activities[\"trcodep\"]==10199)\n",
    "print(np.sum(sleepinds))"
   ]
  },
  {
   "cell_type": "code",
   "execution_count": 6,
   "metadata": {
    "collapsed": true
   },
   "outputs": [],
   "source": [
    "def Hour_Decimal(time):\n",
    "    L=time.split(\":\")\n",
    "    return int(L[0])+int(L[1])/60 +int(L[2])/3600"
   ]
  },
  {
   "cell_type": "code",
   "execution_count": 15,
   "metadata": {
    "collapsed": true
   },
   "outputs": [],
   "source": [
    "times=np.arange(0,24+1/2,1/2)\n",
    "SleepCounts=np.zeros(len(times))\n",
    "Sample=len(Activities)\n",
    "for ind,row in Activities[sleepinds].head(Sample).iterrows():\n",
    "    ID=row[\"tucaseid\"]\n",
    "    S=Hour_Decimal(row[\"tustarttim\"])\n",
    "    E=Hour_Decimal(row[\"tustoptime\"])\n",
    "    if S<4 and E>4: #Make sure people don't have >24 hr logged\n",
    "        E=3.99\n",
    "    #index=(times>=S) & (times<=E)\n",
    "    for ind,counts in enumerate(SleepCounts):\n",
    "        if S<E and (times[ind]>=S and times[ind]<=E):\n",
    "            SleepCounts[ind]+=WeightDict[ID]\n",
    "        else:\n",
    "            if S>E and (times[ind]>=S or (times[ind]<=E and times[ind]<4)):\n",
    "                SleepCounts[ind]+=WeightDict[ID]"
   ]
  },
  {
   "cell_type": "code",
   "execution_count": 58,
   "metadata": {},
   "outputs": [
    {
     "name": "stdout",
     "output_type": "stream",
     "text": [
      "Max % = 95.6694453258 @ [ 3.]\n",
      "Min % = 2.89339611551 @ [ 18.5]\n",
      "[  7.2    7.21   7.22 ...,  22.45  22.46  22.47]\n"
     ]
    },
    {
     "data": {
      "image/png": "[encoded data removed]",
      "text/plain": [
       "<matplotlib.figure.Figure at 0xb817eb8>"
      ]
     },
     "metadata": {},
     "output_type": "display_data"
    }
   ],
   "source": [
    "import matplotlib.pyplot as plt\n",
    "NSample=sum(WeightDict.values())\n",
    "NSleepCounts=[x/NSample*100 for x in SleepCounts]\n",
    "\n",
    "plt.plot(times,NSleepCounts)\n",
    "plt.xlabel('Hour of the Day')\n",
    "plt.ylabel('Percent of People Sleeping')\n",
    "\n",
    "\n",
    "NP=np.array(NSleepCounts)\n",
    "inds=NP==max(NP)\n",
    "Tinds=times[inds]\n",
    "plt.plot([Tinds,Tinds],[0, max(NP)],'r')\n",
    "\n",
    "print('Max % = '+str(max(NP)) + ' @ ' + str(Tinds))\n",
    "\n",
    "inds=NP==min(NP)\n",
    "Tinds=times[inds]\n",
    "plt.plot([Tinds,Tinds],[0, min(NP)],'r')\n",
    "\n",
    "print('Min % = '+str(min(NP)) + ' @ ' + str(Tinds))\n",
    "\n",
    "plt.ylim([0,100])\n",
    "plt.xlim([0,24])\n",
    "\n",
    "\n",
    "xq=np.arange(0,24,.01)\n",
    "Idata=np.interp(xq,times,NP)\n",
    "#plt.plot(xq,Idata)\n",
    "inds=Idata<=50\n",
    "Tinds=xq[inds]\n",
    "Ninds=Idata[inds]\n",
    "plt.plot([min(Tinds),max(Tinds)],[Ninds[0], Ninds[len(Ninds)-1]],'y')\n",
    "print(Tinds)\n",
    "\n",
    "\n",
    "\n",
    "plt.savefig(\"SleepVsTime.png\")"
   ]
  },
  {
   "cell_type": "code",
   "execution_count": 74,
   "metadata": {
    "collapsed": true
   },
   "outputs": [],
   "source": [
    "def AgeInd(age,Ages):\n",
    "    for ind,a in enumerate(Ages):\n",
    "        if age>a and (ind==len(Ages)-1 or age<=Ages[ind+1]):\n",
    "            return ind"
   ]
  },
  {
   "cell_type": "code",
   "execution_count": 101,
   "metadata": {
    "collapsed": true
   },
   "outputs": [],
   "source": [
    "times=np.arange(0,24+1/2,1/2)\n",
    "Ages=np.arange(11,90,15)\n",
    "SleepCounts=np.zeros((len(Ages),len(times)))\n",
    "WSum=np.zeros(len(Ages))\n",
    "for ID in AgeDict.keys():\n",
    "    W=WeightDict[ID]\n",
    "    Age=AgeDict[ID]\n",
    "    AI=AgeInd(Age,Ages)\n",
    "    WSum[AI]+=W\n",
    "    \n",
    "Sample=len(Activities)\n",
    "\n",
    "for ind,row in Activities[sleepinds].head(Sample).iterrows():\n",
    "    ID=row[\"tucaseid\"]\n",
    "    W=WeightDict[ID]\n",
    "    Age=AgeDict[ID]\n",
    "    AI=AgeInd(Age,Ages)\n",
    "    S=Hour_Decimal(row[\"tustarttim\"])\n",
    "    E=Hour_Decimal(row[\"tustoptime\"])\n",
    "    if S<4 and E>4: #Make sure people don't have >24 hr logged\n",
    "        E=3.99\n",
    "    #index=(times>=S) & (times<=E)\n",
    "    for ind,counts in enumerate(SleepCounts[AI,:]):\n",
    "        if S<E and (times[ind]>=S and times[ind]<=E):\n",
    "            SleepCounts[AI,ind]+=W\n",
    "        else:\n",
    "            if S>E and (times[ind]>=S or (times[ind]<=E and times[ind]<4)):\n",
    "                SleepCounts[AI,ind]+=W"
   ]
  },
  {
   "cell_type": "code",
   "execution_count": 102,
   "metadata": {},
   "outputs": [
    {
     "name": "stdout",
     "output_type": "stream",
     "text": [
      "[11 26 41 56 71 86]\n",
      "0\n"
     ]
    }
   ],
   "source": [
    "Ages=np.arange(11,90,15)\n",
    "print(Ages)\n",
    "Age=15\n",
    "print(AgeInd(Age,Ages))"
   ]
  },
  {
   "cell_type": "code",
   "execution_count": 106,
   "metadata": {},
   "outputs": [
    {
     "data": {
      "image/png": "[encoded data removed]",
      "text/plain": [
       "<matplotlib.figure.Figure at 0xc72f4a8>"
      ]
     },
     "metadata": {},
     "output_type": "display_data"
    }
   ],
   "source": [
    "for ind,i in enumerate(Ages):\n",
    "    if ind!=len(Ages)-1:\n",
    "        NSample=WSum[ind]\n",
    "        NSleepCounts=[x/NSample*100 for x in SleepCounts[ind,:]]\n",
    "        plt.plot(times,NSleepCounts)\n",
    "    \n",
    "plt.xlabel('Hour of the Day')\n",
    "plt.ylabel('Percent of People Sleeping')\n",
    "\n",
    "\n",
    "\n",
    "L=['15-25','26-40','41-55','56-70','70-85']\n",
    "for a in Ages:\n",
    "    L.append(str(a))\n",
    "plt.legend(L,title='Age Group')\n",
    "\n",
    "plt.ylim([0,100])\n",
    "plt.xlim([0,24])\n",
    "\n",
    "plt.savefig(\"SleepVsTimeVsAge.png\")"
   ]
  },
  {
   "cell_type": "code",
   "execution_count": 93,
   "metadata": {},
   "outputs": [
    {
     "data": {
      "text/plain": [
       "0.44751945713923547"
      ]
     },
     "execution_count": 93,
     "metadata": {},
     "output_type": "execute_result"
    }
   ],
   "source": [
    "max(SleepCounts[1,:])/WSum[1]\n"
   ]
  },
  {
   "cell_type": "code",
   "execution_count": 94,
   "metadata": {},
   "outputs": [
    {
     "data": {
      "text/plain": [
       "array([  2.53082853e+11,   4.11721733e+11,   3.99544889e+11,\n",
       "         4.25368077e+11,   3.88971560e+11,   2.68949811e+11,\n",
       "         2.32604533e+11,   3.34585770e+10])"
      ]
     },
     "execution_count": 94,
     "metadata": {},
     "output_type": "execute_result"
    }
   ],
   "source": [
    "WSum"
   ]
  },
  {
   "cell_type": "code",
   "execution_count": null,
   "metadata": {
    "collapsed": true
   },
   "outputs": [],
   "source": []
  }
 ],
 "metadata": {
  "kernelspec": {
   "display_name": "Python 3",
   "language": "python",
   "name": "python3"
  },
  "language_info": {
   "codemirror_mode": {
    "name": "ipython",
    "version": 3
   },
   "file_extension": ".py",
   "mimetype": "text/x-python",
   "name": "python",
   "nbconvert_exporter": "python",
   "pygments_lexer": "ipython3",
   "version": "3.6.3"
  }
 },
 "nbformat": 4,
 "nbformat_minor": 2
}
